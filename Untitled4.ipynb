{
 "cells": [
  {
   "cell_type": "code",
   "execution_count": 36,
   "metadata": {},
   "outputs": [
    {
     "name": "stdout",
     "output_type": "stream",
     "text": [
      "['This', 'was', 'the', 'day', 'to', 'remember', 'for', 'life', 'and', ',', 'the', 'way', 'we', 'danced', 'was', 'awesome']\n",
      "['This', 'day', 'remember', 'life', ',', 'way', 'danced', 'awesome']\n",
      "['This', 'day', 'remember', 'life', 'way', 'danced', 'awesome']\n",
      "thi\n",
      "day\n",
      "rememb\n",
      "life\n",
      "way\n",
      "danc\n",
      "awesom\n"
     ]
    }
   ],
   "source": [
    "def aio_func():\n",
    "    import nltk\n",
    "    text=\"This was the day to remember for life and , the way we danced was awesome\"\n",
    "    from nltk.tokenize import word_tokenize\n",
    "    wrd=word_tokenize(text)\n",
    "    print(wrd)\n",
    "    from nltk.corpus import stopwords \n",
    "    sw=set(stopwords.words(\"english\"))\n",
    "    imp_wrd=[w for w in wrd if w not in sw]\n",
    "    print(imp_wrd)\n",
    "    from nltk.tokenize import RegexpTokenizer\n",
    "    t=RegexpTokenizer(\"[a-zA-Z]+\")\n",
    "    ls=t.tokenize(str(imp_wrd))\n",
    "    print(ls)\n",
    "    from nltk.stem.snowball import PorterStemmer\n",
    "    ps=PorterStemmer()\n",
    "    for w in ls:\n",
    "        print(ps.stem(w))\n",
    "    #print(fi)\n",
    "aio_func()"
   ]
  },
  {
   "cell_type": "code",
   "execution_count": null,
   "metadata": {},
   "outputs": [],
   "source": []
  },
  {
   "cell_type": "code",
   "execution_count": null,
   "metadata": {},
   "outputs": [],
   "source": []
  },
  {
   "cell_type": "code",
   "execution_count": null,
   "metadata": {},
   "outputs": [],
   "source": []
  }
 ],
 "metadata": {
  "kernelspec": {
   "display_name": "Python 3",
   "language": "python",
   "name": "python3"
  },
  "language_info": {
   "codemirror_mode": {
    "name": "ipython",
    "version": 3
   },
   "file_extension": ".py",
   "mimetype": "text/x-python",
   "name": "python",
   "nbconvert_exporter": "python",
   "pygments_lexer": "ipython3",
   "version": "3.7.4"
  }
 },
 "nbformat": 4,
 "nbformat_minor": 2
}
